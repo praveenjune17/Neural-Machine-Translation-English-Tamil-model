{
  "nbformat": 4,
  "nbformat_minor": 0,
  "metadata": {
    "colab": {
      "name": "eng-tam_NMT_using_BGRU_encoder.ipynb",
      "version": "0.3.2",
      "provenance": [],
      "collapsed_sections": [],
      "toc_visible": true,
      "include_colab_link": true
    },
    "language_info": {
      "codemirror_mode": {
        "name": "ipython",
        "version": 3
      },
      "file_extension": ".py",
      "mimetype": "text/x-python",
      "name": "python",
      "nbconvert_exporter": "python",
      "pygments_lexer": "ipython3",
      "version": "3.6.4"
    },
    "kernelspec": {
      "name": "python3",
      "display_name": "Python 3"
    },
    "accelerator": "GPU"
  },
  "cells": [
    {
      "cell_type": "markdown",
      "metadata": {
        "id": "view-in-github",
        "colab_type": "text"
      },
      "source": [
        "<a href=\"https://colab.research.google.com/github/praveenjune17/Neural-Machine-Translation-English-Tamil-model/blob/master/eng_tam_NMT_using_BGRU_encoder.ipynb\" target=\"_parent\"><img src=\"https://colab.research.google.com/assets/colab-badge.svg\" alt=\"Open In Colab\"/></a>"
      ]
    },
    {
      "cell_type": "markdown",
      "metadata": {
        "colab_type": "text",
        "id": "s_qNSzzyaCbD"
      },
      "source": [
        "##### Copyright 2019 The TensorFlow Authors.\n",
        "\n",
        "Licensed under the Apache License, Version 2.0 (the \"License\");"
      ]
    },
    {
      "cell_type": "code",
      "metadata": {
        "colab_type": "code",
        "id": "jmjh290raIky",
        "colab": {}
      },
      "source": [
        "#@title Licensed under the Apache License, Version 2.0 (the \"License\");\n",
        "# you may not use this file except in compliance with the License.\n",
        "# You may obtain a copy of the License at\n",
        "#\n",
        "# https://www.apache.org/licenses/LICENSE-2.0\n",
        "#\n",
        "# Unless required by applicable law or agreed to in writing, software\n",
        "# distributed under the License is distributed on an \"AS IS\" BASIS,\n",
        "# WITHOUT WARRANTIES OR CONDITIONS OF ANY KIND, either express or implied.\n",
        "# See the License for the specific language governing permissions and\n",
        "# limitations under the License."
      ],
      "execution_count": 0,
      "outputs": []
    },
    {
      "cell_type": "markdown",
      "metadata": {
        "colab_type": "text",
        "id": "J0Qjg6vuaHNt"
      },
      "source": [
        "# Neural Machine Translation with Attention"
      ]
    },
    {
      "cell_type": "code",
      "metadata": {
        "colab_type": "code",
        "id": "tnxXKDjq3jEL",
        "outputId": "91a42301-8781-42f8-b02f-81bf9b2d0351",
        "colab": {
          "base_uri": "https://localhost:8080/",
          "height": 377
        }
      },
      "source": [
        "from __future__ import absolute_import, division, print_function, unicode_literals\n",
        "from nltk.translate.bleu_score import sentence_bleu\n",
        "from sklearn.model_selection import train_test_split\n",
        "import tensorflow as tf\n",
        "import matplotlib.pyplot as plt\n",
        "import unicodedata\n",
        "import re\n",
        "import numpy as np\n",
        "import os\n",
        "import io\n",
        "import time\n",
        "import random\n",
        "!pip install tensorflow-gpu==2.0.0-beta1\n",
        "#!pip install tensorflow-gpu\n",
        "tf.random.set_random_seed(1234)\n",
        "\n"
      ],
      "execution_count": 1,
      "outputs": [
        {
          "output_type": "stream",
          "text": [
            "Requirement already satisfied: tensorflow-gpu==2.0.0-beta1 in /usr/local/lib/python3.6/dist-packages (2.0.0b1)\n",
            "Requirement already satisfied: astor>=0.6.0 in /usr/local/lib/python3.6/dist-packages (from tensorflow-gpu==2.0.0-beta1) (0.8.0)\n",
            "Requirement already satisfied: termcolor>=1.1.0 in /usr/local/lib/python3.6/dist-packages (from tensorflow-gpu==2.0.0-beta1) (1.1.0)\n",
            "Requirement already satisfied: gast>=0.2.0 in /usr/local/lib/python3.6/dist-packages (from tensorflow-gpu==2.0.0-beta1) (0.2.2)\n",
            "Requirement already satisfied: grpcio>=1.8.6 in /usr/local/lib/python3.6/dist-packages (from tensorflow-gpu==2.0.0-beta1) (1.15.0)\n",
            "Requirement already satisfied: tb-nightly<1.14.0a20190604,>=1.14.0a20190603 in /usr/local/lib/python3.6/dist-packages (from tensorflow-gpu==2.0.0-beta1) (1.14.0a20190603)\n",
            "Requirement already satisfied: six>=1.10.0 in /usr/local/lib/python3.6/dist-packages (from tensorflow-gpu==2.0.0-beta1) (1.12.0)\n",
            "Requirement already satisfied: wheel>=0.26 in /usr/local/lib/python3.6/dist-packages (from tensorflow-gpu==2.0.0-beta1) (0.33.4)\n",
            "Requirement already satisfied: protobuf>=3.6.1 in /usr/local/lib/python3.6/dist-packages (from tensorflow-gpu==2.0.0-beta1) (3.7.1)\n",
            "Requirement already satisfied: numpy<2.0,>=1.14.5 in /usr/local/lib/python3.6/dist-packages (from tensorflow-gpu==2.0.0-beta1) (1.16.4)\n",
            "Requirement already satisfied: tf-estimator-nightly<1.14.0.dev2019060502,>=1.14.0.dev2019060501 in /usr/local/lib/python3.6/dist-packages (from tensorflow-gpu==2.0.0-beta1) (1.14.0.dev2019060501)\n",
            "Requirement already satisfied: keras-applications>=1.0.6 in /usr/local/lib/python3.6/dist-packages (from tensorflow-gpu==2.0.0-beta1) (1.0.8)\n",
            "Requirement already satisfied: wrapt>=1.11.1 in /usr/local/lib/python3.6/dist-packages (from tensorflow-gpu==2.0.0-beta1) (1.11.1)\n",
            "Requirement already satisfied: absl-py>=0.7.0 in /usr/local/lib/python3.6/dist-packages (from tensorflow-gpu==2.0.0-beta1) (0.7.1)\n",
            "Requirement already satisfied: keras-preprocessing>=1.0.5 in /usr/local/lib/python3.6/dist-packages (from tensorflow-gpu==2.0.0-beta1) (1.1.0)\n",
            "Requirement already satisfied: google-pasta>=0.1.6 in /usr/local/lib/python3.6/dist-packages (from tensorflow-gpu==2.0.0-beta1) (0.1.7)\n",
            "Requirement already satisfied: markdown>=2.6.8 in /usr/local/lib/python3.6/dist-packages (from tb-nightly<1.14.0a20190604,>=1.14.0a20190603->tensorflow-gpu==2.0.0-beta1) (3.1.1)\n",
            "Requirement already satisfied: werkzeug>=0.11.15 in /usr/local/lib/python3.6/dist-packages (from tb-nightly<1.14.0a20190604,>=1.14.0a20190603->tensorflow-gpu==2.0.0-beta1) (0.15.4)\n",
            "Requirement already satisfied: setuptools>=41.0.0 in /usr/local/lib/python3.6/dist-packages (from tb-nightly<1.14.0a20190604,>=1.14.0a20190603->tensorflow-gpu==2.0.0-beta1) (41.0.1)\n",
            "Requirement already satisfied: h5py in /usr/local/lib/python3.6/dist-packages (from keras-applications>=1.0.6->tensorflow-gpu==2.0.0-beta1) (2.8.0)\n"
          ],
          "name": "stdout"
        }
      ]
    },
    {
      "cell_type": "code",
      "metadata": {
        "id": "LteNsfV_tNbl",
        "colab_type": "code",
        "colab": {}
      },
      "source": [
        "#!git clone https://github.com/joshua-decoder/indian-parallel-corpora"
      ],
      "execution_count": 0,
      "outputs": []
    },
    {
      "cell_type": "code",
      "metadata": {
        "id": "zfaJbqpcAJ1w",
        "colab_type": "code",
        "colab": {}
      },
      "source": [
        "#!unrar x training_checkpoints.rar"
      ],
      "execution_count": 0,
      "outputs": []
    },
    {
      "cell_type": "markdown",
      "metadata": {
        "colab_type": "text",
        "id": "wfodePkj3jEa"
      },
      "source": [
        "## Download and prepare the dataset\n",
        "\n",
        "#### Inspired by \n",
        "https://github.com/tensorflow/docs/blob/master/site/en/r2/tutorials/text/nmt_with_attention.ipynb\n",
        "\n",
        "The dataset is downloaded\n",
        "\n",
        "a) github.com/achchuthany/En-Ta-Parallel-Corpus\n",
        "\n",
        "b) github.com/joshua-decoder/indian-parallel-corpora\n",
        "\n",
        "\n",
        "\n",
        "### Goal\n",
        "Convert Tamil sentences to english sentences using a Basic Seq2Seq with attention"
      ]
    },
    {
      "cell_type": "code",
      "metadata": {
        "id": "wrVHnaK9B-9C",
        "colab_type": "code",
        "colab": {}
      },
      "source": [
        "#!cat '../content/amazon_terk.new' '../content/train.en-ta-filtered.write_newfilt' > '../content/allset.new'\n",
        "#21 is the limit"
      ],
      "execution_count": 0,
      "outputs": []
    },
    {
      "cell_type": "code",
      "metadata": {
        "id": "1qODzRYP9Mwo",
        "colab_type": "code",
        "outputId": "76aae43f-06c7-49e6-8e18-c4cff36718d8",
        "colab": {
          "base_uri": "https://localhost:8080/",
          "height": 394
        }
      },
      "source": [
        "!7za e En-tam_corpus_sorted_duped.7z\n",
        "#!7za e En-tam_corpus_sorted.7z"
      ],
      "execution_count": 2,
      "outputs": [
        {
          "output_type": "stream",
          "text": [
            "\n",
            "7-Zip (a) [64] 16.02 : Copyright (c) 1999-2016 Igor Pavlov : 2016-05-21\n",
            "p7zip Version 16.02 (locale=en_US.UTF-8,Utf16=on,HugeFiles=on,64 bits,2 CPUs Intel(R) Xeon(R) CPU @ 2.30GHz (306F0),ASM,AES-NI)\n",
            "\n",
            "Scanning the drive for archives:\n",
            "  0M Scan\b\b\b\b\b\b\b\b\b         \b\b\b\b\b\b\b\b\b1 file, 16428997 bytes (16 MiB)\n",
            "\n",
            "Extracting archive: En-tam_corpus_sorted_duped.7z\n",
            "--\n",
            "Path = En-tam_corpus_sorted_duped.7z\n",
            "Type = 7z\n",
            "Physical Size = 16428997\n",
            "Headers Size = 170\n",
            "Method = LZMA2:24\n",
            "Solid = -\n",
            "Blocks = 1\n",
            "\n",
            "  0%\b\b\b\b    \b\b\b\b 18% - En-tam_corpus_sorted_duped.new\b\b\b\b\b\b\b\b\b\b\b\b\b\b\b\b\b\b\b\b\b\b\b\b\b\b\b\b\b\b\b\b\b\b\b\b\b                                     \b\b\b\b\b\b\b\b\b\b\b\b\b\b\b\b\b\b\b\b\b\b\b\b\b\b\b\b\b\b\b\b\b\b\b\b\b 36% - En-tam_corpus_sorted_duped.new\b\b\b\b\b\b\b\b\b\b\b\b\b\b\b\b\b\b\b\b\b\b\b\b\b\b\b\b\b\b\b\b\b\b\b\b\b                                     \b\b\b\b\b\b\b\b\b\b\b\b\b\b\b\b\b\b\b\b\b\b\b\b\b\b\b\b\b\b\b\b\b\b\b\b\b 57% - En-tam_corpus_sorted_duped.new\b\b\b\b\b\b\b\b\b\b\b\b\b\b\b\b\b\b\b\b\b\b\b\b\b\b\b\b\b\b\b\b\b\b\b\b\b                                     \b\b\b\b\b\b\b\b\b\b\b\b\b\b\b\b\b\b\b\b\b\b\b\b\b\b\b\b\b\b\b\b\b\b\b\b\b 75% - En-tam_corpus_sorted_duped.new\b\b\b\b\b\b\b\b\b\b\b\b\b\b\b\b\b\b\b\b\b\b\b\b\b\b\b\b\b\b\b\b\b\b\b\b\b                                     \b\b\b\b\b\b\b\b\b\b\b\b\b\b\b\b\b\b\b\b\b\b\b\b\b\b\b\b\b\b\b\b\b\b\b\b\b 94% - En-tam_corpus_sorted_duped.new\b\b\b\b\b\b\b\b\b\b\b\b\b\b\b\b\b\b\b\b\b\b\b\b\b\b\b\b\b\b\b\b\b\b\b\b\b                                     \b\b\b\b\b\b\b\b\b\b\b\b\b\b\b\b\b\b\b\b\b\b\b\b\b\b\b\b\b\b\b\b\b\b\b\b\bEverything is Ok\n",
            "\n",
            "Size:       102356343\n",
            "Compressed: 16428997\n"
          ],
          "name": "stdout"
        }
      ]
    },
    {
      "cell_type": "code",
      "metadata": {
        "colab_type": "code",
        "id": "kRVATYOgJs1b",
        "colab": {}
      },
      "source": [
        "# Download the file\n",
        "#path_to_en_file = '../content/train.en-ta.en'\n",
        "#path_to_new_file = '../content/train.en-ta-filtered.write_few'\n",
        "#path_to_ta_file = '../content/train.en-ta-ta.ta'\n",
        "#path_to_file = '../content/train.en-ta-filtered.write_newfilt'   #achuchuthany dataset filt\n",
        "path_to_file = '../content/En-tam_corpus_sorted_duped.new'\n",
        "#path_to_en_file ='../content/indian-parallel-corpora/ta-en/training.ta-en.en'\n",
        "#path_to_ta_file ='../content/indian-parallel-corpora/ta-en/training.ta-en.ta'\n",
        "#path_to_file = '../content/amazon_terk.new'\n"
      ],
      "execution_count": 0,
      "outputs": []
    },
    {
      "cell_type": "code",
      "metadata": {
        "id": "Zqp7fYze2j7p",
        "colab_type": "code",
        "outputId": "c06d488c-692d-4dcc-bfe0-c0f7be50b10c",
        "colab": {
          "base_uri": "https://localhost:8080/",
          "height": 34
        }
      },
      "source": [
        "\n",
        "with open(path_to_file ,'r',encoding='utf-8') as file_r:\n",
        "  count=0\n",
        "  for line in file_r:\n",
        "\n",
        "\n",
        "    count+=1\n",
        "  print(count)"
      ],
      "execution_count": 6,
      "outputs": [
        {
          "output_type": "stream",
          "text": [
            "203322\n"
          ],
          "name": "stdout"
        }
      ]
    },
    {
      "cell_type": "code",
      "metadata": {
        "id": "uuaN6z6XNVjJ",
        "colab_type": "code",
        "colab": {}
      },
      "source": [
        "# # with open(path_to_file,'r') as file_write:\n",
        "# #   for line in file_write:\n",
        "# #     print(line)\n",
        "# #     break\n",
        "# import random\n",
        "# def random_line(afile):\n",
        "#     line = next(afile)\n",
        "#     for num, aline in enumerate(afile, 2):\n",
        "#       if random.randrange(num): continue\n",
        "#       line = aline\n",
        "#     return line\n",
        "    \n",
        "# with open(path_to_file,'r') as file_write:\n",
        "#   print (random_line(file_write))\n"
      ],
      "execution_count": 0,
      "outputs": []
    },
    {
      "cell_type": "code",
      "metadata": {
        "id": "Z0dc8Rk6GVP6",
        "colab_type": "code",
        "colab": {}
      },
      "source": [
        "# statinfo = os.stat(path_to_file)\n",
        "# print ('file created is size of {}'.format(str(statinfo.st_size/1024**2)+' MB'))"
      ],
      "execution_count": 0,
      "outputs": []
    },
    {
      "cell_type": "code",
      "metadata": {
        "colab_type": "code",
        "id": "rd0jw-eC3jEh",
        "colab": {}
      },
      "source": [
        "# Converts the unicode file to ascii\n",
        "def unicode_to_ascii(s):\n",
        "    return ''.join(c for c in unicodedata.normalize('NFD', s)\n",
        "        if unicodedata.category(c) != 'Mn')\n",
        "\n",
        "\n",
        "def preprocess_sentence(w,language='tamil'):\n",
        "    #w = unicode_to_ascii(w.lower().strip())\n",
        "\n",
        "    # creating a space between a word and the punctuation following it\n",
        "    # eg: \"he is a boy.\" => \"he is a boy .\"\n",
        "    # Reference:- https://stackoverflow.com/questions/3645931/python-padding-punctuation-with-white-spaces-keeping-punctuation\n",
        "    if language=='english':\n",
        "      w = unicode_to_ascii(w.lower().strip())\n",
        "      w = re.sub(r\"([?.!,¿])\", r\" \\1 \", w)\n",
        "      w = re.sub(r'[\" \"]+', \" \", w)\n",
        "      # replacing everything with space except (a-z, A-Z, \".\", \"?\", \"!\", \",\")\n",
        "      w = re.sub(r\"[^a-zA-Z?.!]+\", \" \", w)\n",
        "    else:\n",
        "     \n",
        "      w = re.sub(r\"([?.!,¿])\", r\" \\1 \", w.strip())\n",
        "      w = re.sub(r'[\" \"]+', \" \", w)\n",
        "      w = re.sub('[a-zA-Z?.!]+', \" \", w) #replace english alphabets in tamil sentence\n",
        "    w = w.rstrip().strip()\n",
        "\n",
        "    # adding a start and an end token to the sentence\n",
        "    # so that the model know when to start and stop predicting.\n",
        "    w = '<start> ' + w + ' <end>'\n",
        "    return w"
      ],
      "execution_count": 0,
      "outputs": []
    },
    {
      "cell_type": "code",
      "metadata": {
        "id": "1Cff0ICzev94",
        "colab_type": "code",
        "colab": {}
      },
      "source": [
        ""
      ],
      "execution_count": 0,
      "outputs": []
    },
    {
      "cell_type": "code",
      "metadata": {
        "colab_type": "code",
        "id": "opI2GzOt479E",
        "outputId": "f246f824-079b-41b8-ed61-ecb5776ad8e5",
        "colab": {
          "base_uri": "https://localhost:8080/",
          "height": 51
        }
      },
      "source": [
        "en_sentence = u\"alternative current\"\n",
        "ta_sentence = u\"இராணுவம் சாம்பூர் பிரதேசத்தை குண்டுகளால் சேதப்படுத்துவதன் மூலம் பதிலடி கொடுத்தது.\"\n",
        "\n",
        "print(preprocess_sentence(ta_sentence))\n",
        "print(preprocess_sentence(en_sentence,'english'))"
      ],
      "execution_count": 9,
      "outputs": [
        {
          "output_type": "stream",
          "text": [
            "<start> இராணுவம் சாம்பூர் பிரதேசத்தை குண்டுகளால் சேதப்படுத்துவதன் மூலம் பதிலடி கொடுத்தது <end>\n",
            "<start> alternative current <end>\n"
          ],
          "name": "stdout"
        }
      ]
    },
    {
      "cell_type": "code",
      "metadata": {
        "colab_type": "code",
        "id": "OHn4Dct23jEm",
        "colab": {}
      },
      "source": [
        "# 1. Remove the accents\n",
        "# 2. Clean the sentences\n",
        "# 3. Return word pairs in the format: [ENGLISH, TAMIL]\n",
        "def create_dataset(path,num_examples):\n",
        "  ex1=[]\n",
        "  ex2=[]\n",
        "  lines = io.open(path, encoding='UTF-8').read().strip().split('\\n')\n",
        "  #print(lines)\n",
        "    #word_pairs = [[preprocess_sentence(w,language) for w in l.split('\\t')]  for l in lines[:num_examples]]\n",
        "    #word_pairs = [[preprocess_sentence(w,language) for w in l.split('\\t')]  for l in lines[:num_examples]]\n",
        "  for l in lines[:num_examples]:\n",
        "    #print(l)\n",
        "    \n",
        "    eng,ta= (l.split('\\t'))\n",
        "    #if len(eng.split()) > threshold:\n",
        "    #  continue\n",
        "    #if len(ta.split()) > threshold:\n",
        "    #  continue\n",
        "    ex1.append(preprocess_sentence(eng,language='english'))\n",
        "    ex2.append(preprocess_sentence(ta,language='tamil'))\n",
        "    \n",
        "\n",
        "  return zip(*list(zip(ex1,ex2)))"
      ],
      "execution_count": 0,
      "outputs": []
    },
    {
      "cell_type": "code",
      "metadata": {
        "colab_type": "code",
        "id": "cTbSbBz55QtF",
        "outputId": "002b5e11-62ed-41c3-fa16-018bf84abcef",
        "colab": {
          "base_uri": "https://localhost:8080/",
          "height": 51
        }
      },
      "source": [
        "en,ta  = create_dataset(path_to_file, 10)\n",
        "\n",
        "print(en[-1])\n",
        "print(ta[-1])"
      ],
      "execution_count": 11,
      "outputs": [
        {
          "output_type": "stream",
          "text": [
            "<start> selvi <end>\n",
            "<start> செல்வி <end>\n"
          ],
          "name": "stdout"
        }
      ]
    },
    {
      "cell_type": "markdown",
      "metadata": {
        "id": "cswrxYJuZAoa",
        "colab_type": "text"
      },
      "source": [
        "#### Create a traning set which contain pairs of english , tamil sentences.Filtering out sentences of length greater than the threshold since long sentences consumes much of GPU memory"
      ]
    },
    {
      "cell_type": "code",
      "metadata": {
        "id": "omO348pVd4Sh",
        "colab_type": "code",
        "colab": {}
      },
      "source": [
        "# #optimized code .. need to test\n",
        "# def remove_extra(input_tensor,target_tensor,threshold):\n",
        "  \n",
        "\n",
        "#   max_len = []\n",
        "#   max_values = []\n",
        "#   max_len_targ=[]\n",
        "#   max_values_targ=[]\n",
        "#   threshold = threshold\n",
        "#   issues=[]\n",
        "#   for i,j in zip(input_tensor,target_tensor):\n",
        "#     if len(i) > threshold:\n",
        "#       max_len.append(len(i))\n",
        "#       max_values.append(i)\n",
        "#     if len(j) > threshold:\n",
        "#       max_len_targ.append(len(j))\n",
        "#       max_values_targ.append(j)\n",
        "    \n",
        "  \n",
        "#   for val_ip,val_tar in zip(max_values,max_values_targ):\n",
        "#     rem_index_ip = input_tensor.index(val_ip)\n",
        "#     rem_index_tar = target_tensor.index(val_tar)\n",
        "#     if rem_index_ip == rem_index_tar:\n",
        "#       _=target_tensor.pop(rem_index_ip)\n",
        "#       _=input_tensor.pop(rem_index_ip)\n",
        "#     else:\n",
        "#       _=target_tensor.pop(rem_index_ip)\n",
        "#       _=input_tensor.pop(rem_index_ip)\n",
        "#       _=target_tensor.pop(rem_index_tar)\n",
        "#       _=input_tensor.pop(rem_index_tar)\n",
        "  \n",
        "    \n",
        "#   return(input_tensor,target_tensor)"
      ],
      "execution_count": 0,
      "outputs": []
    },
    {
      "cell_type": "code",
      "metadata": {
        "id": "C70iQdGAxdiO",
        "colab_type": "code",
        "colab": {}
      },
      "source": [
        "#Can be optimized further\n",
        "def remove_extra(input_tensor,target_tensor,threshold):\n",
        "  \n",
        "\n",
        "  max_len = []\n",
        "  max_values = []\n",
        "  max_len_targ=[]\n",
        "  max_values_targ=[]\n",
        "  threshold = threshold\n",
        "  issues=[]\n",
        "  for i in input_tensor:\n",
        "    if len(i) > threshold:\n",
        "      max_len.append(len(i))\n",
        "      max_values.append(i)\n",
        "  for i in target_tensor:\n",
        "    if len(i) > threshold:\n",
        "      max_len_targ.append(len(i))\n",
        "      max_values_targ.append(i)\n",
        "  if len(max_len)==len(max_values):\n",
        "    for val in max_values:\n",
        "      rem_index = input_tensor.index(val)\n",
        "      _=target_tensor.pop(rem_index)\n",
        "      _=input_tensor.pop(rem_index)\n",
        "  if len(max_len_targ)==len(max_values_targ):\n",
        "    for val in max_values_targ:\n",
        "      try:\n",
        "        rem_index = target_tensor.index(val)\n",
        "        _=target_tensor.pop(rem_index)\n",
        "        _=input_tensor.pop(rem_index)\n",
        "      except ValueError:\n",
        "        issues.append(val)\n",
        "        continue\n",
        "    #least_sentence_length = sorted(list(set([len(i) for i in issues])),reverse=True)[-1]\n",
        "  return(input_tensor,target_tensor)"
      ],
      "execution_count": 0,
      "outputs": []
    },
    {
      "cell_type": "code",
      "metadata": {
        "id": "gIc3DSZY3CXB",
        "colab_type": "code",
        "colab": {}
      },
      "source": [
        "# def filter_max_length(x, y, max_length=MAX_LENGTH):\n",
        "#   return tf.logical_and(tf.size(x) <= max_length,\n",
        "#                         tf.size(y) <= max_length)"
      ],
      "execution_count": 0,
      "outputs": []
    },
    {
      "cell_type": "code",
      "metadata": {
        "colab_type": "code",
        "id": "OmMZQpdO60dt",
        "colab": {}
      },
      "source": [
        "\n",
        "\n",
        "def max_length(tensor):\n",
        "  return max(len(t) for t in tensor)"
      ],
      "execution_count": 0,
      "outputs": []
    },
    {
      "cell_type": "code",
      "metadata": {
        "colab_type": "code",
        "id": "bIOn8RCNDJXG",
        "colab": {}
      },
      "source": [
        "def tokenize(inp_lang,targ_lang):\n",
        "  inp_lang_tokenizer = tf.keras.preprocessing.text.Tokenizer(\n",
        "      filters='')\n",
        "  inp_lang_tokenizer.fit_on_texts(inp_lang)\n",
        "\n",
        "  ip_tensor = inp_lang_tokenizer.texts_to_sequences(inp_lang)          #convert the words to numbers of varying lengths\n",
        "  \n",
        "  targ_lang_tokenizer = tf.keras.preprocessing.text.Tokenizer(\n",
        "      filters='')\n",
        "  targ_lang_tokenizer.fit_on_texts(targ_lang)\n",
        "\n",
        "  tar_tensor = targ_lang_tokenizer.texts_to_sequences(targ_lang)          #convert the words to numbers of varying lengths\n",
        "  #ip_tensor,tar_tensor = remove_long_sentence(ip_tensor,tar_tensor,threshold)\n",
        "  #ip_tensor = tf.keras.preprocessing.sequence.pad_sequences(ip_tensor,#set the length of the sequences to be same by padding zeros in the end\n",
        "                                                         #padding='post')\n",
        "  #tar_tensor = tf.keras.preprocessing.sequence.pad_sequences(tar_tensor,#set the length of the sequences to be same by padding zeros in the end\n",
        "                                                         #padding='post')\n",
        "  \n",
        "\n",
        "  return ip_tensor,inp_lang_tokenizer,tar_tensor,targ_lang_tokenizer"
      ],
      "execution_count": 0,
      "outputs": []
    },
    {
      "cell_type": "code",
      "metadata": {
        "colab_type": "code",
        "id": "eAY9k49G3jE_",
        "colab": {}
      },
      "source": [
        "def load_dataset(path, num_examples=None):\n",
        "    # creating cleaned input, output pairs\n",
        "    inp_lang,targ_lang  = create_dataset(path, num_examples)\n",
        "    \n",
        "    input_tensor, inp_lang_tokenizer, target_tensor, targ_lang_tokenizer = tokenize(inp_lang,targ_lang)\n",
        "    #target_tensor, targ_lang_tokenizer = tokenize(targ_lang,threshold=threshold)\n",
        "\n",
        "    return input_tensor, target_tensor, inp_lang_tokenizer, targ_lang_tokenizer"
      ],
      "execution_count": 0,
      "outputs": []
    },
    {
      "cell_type": "markdown",
      "metadata": {
        "colab_type": "text",
        "id": "GOi42V79Ydlr"
      },
      "source": [
        "### Limit the size of the dataset to experiment faster (optional)\n",
        "\n",
        "Training on the complete dataset of >100,000 sentences will take a long time. To train faster, we can limit the size of the dataset to 30,000 sentences (of course, translation quality degrades with less data):"
      ]
    },
    {
      "cell_type": "code",
      "metadata": {
        "colab_type": "code",
        "id": "cnxC7q-j3jFD",
        "outputId": "5deeb1f2-ffee-4dfe-8f2e-8c356440e5a2",
        "colab": {
          "base_uri": "https://localhost:8080/",
          "height": 68
        }
      },
      "source": [
        "# Try experimenting with the size of that dataset\n",
        "num_examples = 50000\n",
        "input_tensor, target_tensor, inp_lang, targ_lang = load_dataset(path_to_file, num_examples)\n",
        "#input_tensor = tf.keras.preprocessing.sequence.pad_sequences(input_tensor,#set the length of the sequences to be same by padding zeros in the end\n",
        "#                                                         padding='post')\n",
        "#target_tensor = tf.keras.preprocessing.sequence.pad_sequences(target_tensor,#set the length of the sequences to be same by padding zeros in the end\n",
        "#                                                         padding='post')\n",
        "\n",
        "# Calculate max_length of the target tensors\n",
        "prev_ip = len(input_tensor)\n",
        "prev_tar = len(target_tensor)\n",
        "input_tensor,target_tensor = remove_extra(input_tensor,target_tensor,threshold=17)\n",
        "after_ip = len(input_tensor)\n",
        "after_tar = len(target_tensor)\n",
        "\n",
        "print('{} and {} sentences removed from ip and target tensor after filtering by threshold'.format((prev_ip-after_ip),(prev_tar-after_tar)))\n",
        "input_tensor = tf.keras.preprocessing.sequence.pad_sequences(input_tensor,#set the length of the sequences to be same by padding zeros in the end\n",
        "                                                        padding='post')\n",
        "target_tensor = tf.keras.preprocessing.sequence.pad_sequences(target_tensor,#set the length of the sequences to be same by padding zeros in the end\n",
        "                                                        padding='post')\n",
        "max_length_targ, max_length_inp = max_length(target_tensor), max_length(input_tensor)\n",
        "\n",
        "#temp = max_length(input_tensor)\n",
        "#print('*******')\n",
        "print(max_length_targ)\n",
        "print(max_length_inp)\n"
      ],
      "execution_count": 25,
      "outputs": [
        {
          "output_type": "stream",
          "text": [
            "39 and 39 sentences removed from ip and target tensor after filtering by threshold\n",
            "17\n",
            "17\n"
          ],
          "name": "stdout"
        }
      ]
    },
    {
      "cell_type": "code",
      "metadata": {
        "colab_type": "code",
        "id": "4QILQkOs3jFG",
        "outputId": "b656b2a7-9e9c-4a2c-fe64-7e58d48854a7",
        "colab": {
          "base_uri": "https://localhost:8080/",
          "height": 34
        }
      },
      "source": [
        "# Creating training and validation sets using an 80-20 split\n",
        "input_tensor_train, input_tensor_val, target_tensor_train, target_tensor_val = train_test_split(input_tensor, target_tensor, test_size=0.01)\n",
        "\n",
        "# Show length\n",
        "len(input_tensor_train), len(target_tensor_train), len(input_tensor_val), len(target_tensor_val)"
      ],
      "execution_count": 26,
      "outputs": [
        {
          "output_type": "execute_result",
          "data": {
            "text/plain": [
              "(49461, 49461, 500, 500)"
            ]
          },
          "metadata": {
            "tags": []
          },
          "execution_count": 26
        }
      ]
    },
    {
      "cell_type": "code",
      "metadata": {
        "colab_type": "code",
        "id": "lJPmLZGMeD5q",
        "colab": {}
      },
      "source": [
        "def convert(lang, tensor):\n",
        "  for t in tensor:\n",
        "    if t!=0:\n",
        "      print (\"%d ----> %s\" % (t, lang.index_word[t]))"
      ],
      "execution_count": 0,
      "outputs": []
    },
    {
      "cell_type": "code",
      "metadata": {
        "colab_type": "code",
        "id": "VXukARTDd7MT",
        "outputId": "0d3b387b-fe2b-4583-f4aa-f3310176bc1e",
        "colab": {
          "base_uri": "https://localhost:8080/",
          "height": 323
        }
      },
      "source": [
        "print (\"Input Language; index to word mapping\")\n",
        "convert(inp_lang, input_tensor_train[0])\n",
        "print ()\n",
        "print (\"Target Language; index to word mapping\")\n",
        "convert(targ_lang, target_tensor_train[0])"
      ],
      "execution_count": 28,
      "outputs": [
        {
          "output_type": "stream",
          "text": [
            "Input Language; index to word mapping\n",
            "1 ----> <start>\n",
            "213 ----> system\n",
            "4405 ----> unavailable\n",
            "1056 ----> try\n",
            "216 ----> again\n",
            "570 ----> soon\n",
            "3 ----> .\n",
            "2 ----> <end>\n",
            "\n",
            "Target Language; index to word mapping\n",
            "1 ----> <start>\n",
            "218 ----> கணினி\n",
            "1186 ----> கிடைக்கவில்லை\n",
            "3 ----> ,\n",
            "16148 ----> மிண்டும்\n",
            "32390 ----> முயர்சிக்கவும்\n",
            "2 ----> <end>\n"
          ],
          "name": "stdout"
        }
      ]
    },
    {
      "cell_type": "markdown",
      "metadata": {
        "colab_type": "text",
        "id": "rgCLkfv5uO3d"
      },
      "source": [
        "### Create a tf.data dataset"
      ]
    },
    {
      "cell_type": "code",
      "metadata": {
        "colab_type": "code",
        "id": "TqHsArVZ3jFS",
        "colab": {}
      },
      "source": [
        "BUFFER_SIZE = len(input_tensor_train)\n",
        "BATCH_SIZE = 128\n",
        "steps_per_epoch = len(input_tensor_train)//BATCH_SIZE\n",
        "embedding_dim = 256\n",
        "units = 512\n",
        "vocab_inp_size = len(inp_lang.word_index)+1\n",
        "vocab_tar_size = len(targ_lang.word_index)+1\n",
        "\n",
        "dataset = tf.data.Dataset.from_tensor_slices((input_tensor_train, target_tensor_train)).shuffle(BUFFER_SIZE)\n",
        "dataset = dataset.batch(BATCH_SIZE, drop_remainder=True)"
      ],
      "execution_count": 0,
      "outputs": []
    },
    {
      "cell_type": "code",
      "metadata": {
        "id": "BJoapIYXlr7n",
        "colab_type": "code",
        "outputId": "eb678e63-ef02-4438-bb07-83e7349a80df",
        "colab": {
          "base_uri": "https://localhost:8080/",
          "height": 34
        }
      },
      "source": [
        "print(vocab_inp_size,vocab_tar_size)"
      ],
      "execution_count": 30,
      "outputs": [
        {
          "output_type": "stream",
          "text": [
            "24444 53416\n"
          ],
          "name": "stdout"
        }
      ]
    },
    {
      "cell_type": "code",
      "metadata": {
        "colab_type": "code",
        "id": "qc6-NK1GtWQt",
        "outputId": "cc318d94-b4cc-472e-ac79-568e408facef",
        "colab": {
          "base_uri": "https://localhost:8080/",
          "height": 34
        }
      },
      "source": [
        "example_input_batch, example_target_batch = next(iter(dataset))\n",
        "example_input_batch.shape, example_target_batch.shape"
      ],
      "execution_count": 31,
      "outputs": [
        {
          "output_type": "execute_result",
          "data": {
            "text/plain": [
              "(TensorShape([128, 17]), TensorShape([128, 17]))"
            ]
          },
          "metadata": {
            "tags": []
          },
          "execution_count": 31
        }
      ]
    },
    {
      "cell_type": "markdown",
      "metadata": {
        "colab_type": "text",
        "id": "TNfHIF71ulLu"
      },
      "source": [
        "## Write the encoder and decoder model\n",
        "\n",
        "Here, we'll implement an encoder-decoder model with attention which you can read about in the TensorFlow [Neural Machine Translation (seq2seq) tutorial](https://www.tensorflow.org/tutorials/seq2seq). This example uses a more recent set of APIs. This notebook implements the [attention equations](https://www.tensorflow.org/tutorials/seq2seq#background_on_the_attention_mechanism) from the seq2seq tutorial. The following diagram shows that each input words is assigned a weight by the attention mechanism which is then used by the decoder to predict the next word in the sentence.\n",
        "\n",
        "<img src=\"https://www.tensorflow.org/images/seq2seq/attention_mechanism.jpg\" width=\"500\" alt=\"attention mechanism\">\n",
        "\n",
        "The input is put through an encoder model which gives us the encoder output of shape *(batch_size, max_length, hidden_size)* and the encoder hidden state of shape *(batch_size, hidden_size)*.\n",
        "\n",
        "Here are the equations that are implemented:\n",
        "\n",
        "<img src=\"https://www.tensorflow.org/images/seq2seq/attention_equation_0.jpg\" alt=\"attention equation 0\" width=\"800\">\n",
        "<img src=\"https://www.tensorflow.org/images/seq2seq/attention_equation_1.jpg\" alt=\"attention equation 1\" width=\"800\">\n",
        "\n",
        "We're using *Bahdanau attention*. Lets decide on notation before writing the simplified form:\n",
        "\n",
        "* FC = Fully connected (dense) layer\n",
        "* EO = Encoder output\n",
        "* H = hidden state\n",
        "* X = input to the decoder\n",
        "\n",
        "And the pseudo-code:\n",
        "\n",
        "* `score = FC(tanh(FC(EO) + FC(H)))`\n",
        "* `attention weights = softmax(score, axis = 1)`. Softmax by default is applied on the last axis but here we want to apply it on the *1st axis*, since the shape of score is *(batch_size, max_length, hidden_size)*. `Max_length` is the length of our input. Since we are trying to assign a weight to each input, softmax should be applied on that axis.\n",
        "* `context vector = sum(attention weights * EO, axis = 1)`. Same reason as above for choosing axis as 1.\n",
        "* `embedding output` = The input to the decoder X is passed through an embedding layer.\n",
        "* `merged vector = concat(embedding output, context vector)`\n",
        "* This merged vector is then given to the GRU\n",
        "\n",
        "The shapes of all the vectors at each step have been specified in the comments in the code:"
      ]
    },
    {
      "cell_type": "code",
      "metadata": {
        "id": "LENpY-B06XhT",
        "colab_type": "code",
        "colab": {}
      },
      "source": [
        "# #help(tf.keras.layers.Bidirectional)\n",
        "\n",
        "def gru(units):\n",
        "  # If you have a GPU, we recommend using CuDNNGRU(provides a 3x speedup than GRU)\n",
        "  # the code automatically does that.\n",
        "  if tf.test.is_gpu_available():\n",
        "    return tf.keras.layers.CuDNNGRU(units, \n",
        "                                    return_sequences=True, \n",
        "                                    return_state=True, \n",
        "                                    recurrent_initializer='glorot_uniform')\n",
        "  else:\n",
        "    return tf.keras.layers.GRU(units, \n",
        "                               return_sequences=True, \n",
        "                               return_state=True, \n",
        "                               recurrent_activation='sigmoid', \n",
        "                               recurrent_initializer='glorot_uniform')"
      ],
      "execution_count": 0,
      "outputs": []
    },
    {
      "cell_type": "code",
      "metadata": {
        "colab_type": "code",
        "id": "nZ2rI24i3jFg",
        "colab": {}
      },
      "source": [
        "class Encoder(tf.keras.Model):\n",
        "  def __init__(self, vocab_size, embedding_dim, enc_units, batch_sz):\n",
        "    super(Encoder, self).__init__()\n",
        "    self.batch_sz = batch_sz\n",
        "    self.enc_units = enc_units\n",
        "    self.embedding = tf.keras.layers.Embedding(vocab_size, embedding_dim)\n",
        "    #self.gru_fw = gru(self.enc_units)\n",
        "    self.gru_fw = tf.keras.layers.GRU(self.enc_units,\n",
        "                                   return_sequences=True,\n",
        "                                   return_state=True,\n",
        "                                   recurrent_initializer='glorot_uniform')\n",
        "    #self.gru_bw = tf.keras.layers.GRU(self.enc_units,\n",
        "    #                               return_sequences=True,\n",
        "    #                               return_state=True,\n",
        "    #                               go_backwards=True,\n",
        "    #                               recurrent_initializer='glorot_uniform')\n",
        "    #LSTM(10, activation='relu', return_sequences=True,\n",
        "    #                  go_backwards=True)\n",
        "    \n",
        "    #self.bi_gru=tf.keras.layers.Bidirectional(self.gru_fw,backward_layer=self.gru_bw,merge_mode='concat')\n",
        "    self.bi_gru=tf.keras.layers.Bidirectional(self.gru_fw,merge_mode='concat')\n",
        "\n",
        "  def call(self, x, hidden1,hidden2):\n",
        "    x = self.embedding(x)\n",
        "    output, fw_state, bk_state = self.bi_gru(x, initial_state = [hidden1,hidden2])\n",
        "    #output, fw_state = self.bi_gru(x, initial_state = hidden1)\n",
        "    #print(fw_state.shape)\n",
        "    #print(bk_state.shape)\n",
        "    state = tf.concat([fw_state,bk_state],axis=1)\n",
        "    #print(state.shape)\n",
        "    return output, state\n",
        "\n",
        "  def initialize_hidden_state(self):\n",
        "    return tf.zeros((self.batch_sz, self.enc_units))\n",
        "    #return [tf.zeros((self.batch_sz, self.enc_units)) for i in range(2)]"
      ],
      "execution_count": 0,
      "outputs": []
    },
    {
      "cell_type": "code",
      "metadata": {
        "id": "1nJipbS0Z3Vz",
        "colab_type": "code",
        "outputId": "c06d0c2e-d63b-4acd-cc01-ef3a5cf57eef",
        "colab": {
          "base_uri": "https://localhost:8080/",
          "height": 51
        }
      },
      "source": [
        "encoder = Encoder(vocab_inp_size, embedding_dim, units, BATCH_SIZE)\n",
        "\n",
        "# sample input\n",
        "sample_hidden1 = encoder.initialize_hidden_state()\n",
        "sample_hidden2 = encoder.initialize_hidden_state()\n",
        "sample_output, sample_hidden = encoder(example_input_batch, sample_hidden1,sample_hidden2)\n",
        "print ('Encoder output shape: (batch size, sequence length, units) {}'.format(sample_output.shape))\n",
        "print ('Encoder Hidden state shape: (batch size, units) {}'.format(sample_hidden.shape))"
      ],
      "execution_count": 34,
      "outputs": [
        {
          "output_type": "stream",
          "text": [
            "Encoder output shape: (batch size, sequence length, units) (128, 17, 1024)\n",
            "Encoder Hidden state shape: (batch size, units) (128, 1024)\n"
          ],
          "name": "stdout"
        }
      ]
    },
    {
      "cell_type": "code",
      "metadata": {
        "colab_type": "code",
        "id": "umohpBN2OM94",
        "colab": {}
      },
      "source": [
        "class BahdanauAttention(tf.keras.Model):\n",
        "  def __init__(self, units):\n",
        "    super(BahdanauAttention, self).__init__()\n",
        "    self.W1 = tf.keras.layers.Dense(units)\n",
        "    self.W2 = tf.keras.layers.Dense(units)\n",
        "    self.V = tf.keras.layers.Dense(1)\n",
        "\n",
        "  def call(self, query, values):\n",
        "    # hidden shape == (batch_size, hidden size)\n",
        "    # hidden_with_time_axis shape == (batch_size, 1, hidden size)\n",
        "    # we are doing this to perform addition to calculate the score\n",
        "    hidden_with_time_axis = tf.expand_dims(query, 1)\n",
        "\n",
        "    # score shape == (batch_size, max_length, hidden_size)\n",
        "    score = self.V(tf.nn.tanh(\n",
        "        self.W1(values) + self.W2(hidden_with_time_axis)))\n",
        "\n",
        "    # attention_weights shape == (batch_size, max_length, 1)\n",
        "    # we get 1 at the last axis because we are applying score to self.V\n",
        "    attention_weights = tf.nn.softmax(score, axis=1)\n",
        "\n",
        "    # context_vector shape after sum == (batch_size, hidden_size)\n",
        "    context_vector = attention_weights * values\n",
        "    context_vector = tf.reduce_sum(context_vector, axis=1)\n",
        "\n",
        "    return context_vector, attention_weights"
      ],
      "execution_count": 0,
      "outputs": []
    },
    {
      "cell_type": "code",
      "metadata": {
        "colab_type": "code",
        "id": "k534zTHiDjQU",
        "outputId": "58b47f76-a5c4-4c0d-f9fe-e0446af6cbfc",
        "colab": {
          "base_uri": "https://localhost:8080/",
          "height": 51
        }
      },
      "source": [
        "attention_layer = BahdanauAttention(10)\n",
        "attention_result, attention_weights = attention_layer(sample_hidden, sample_output)\n",
        "\n",
        "print(\"Attention result shape: (batch size, units) {}\".format(attention_result.shape))\n",
        "print(\"Attention weights shape: (batch_size, sequence_length, 1) {}\".format(attention_weights.shape))"
      ],
      "execution_count": 36,
      "outputs": [
        {
          "output_type": "stream",
          "text": [
            "Attention result shape: (batch size, units) (128, 1024)\n",
            "Attention weights shape: (batch_size, sequence_length, 1) (128, 17, 1)\n"
          ],
          "name": "stdout"
        }
      ]
    },
    {
      "cell_type": "code",
      "metadata": {
        "colab_type": "code",
        "id": "yJ_B3mhW3jFk",
        "colab": {}
      },
      "source": [
        "class Decoder(tf.keras.Model):\n",
        "  def __init__(self, vocab_size, embedding_dim, dec_units, batch_sz):\n",
        "    super(Decoder, self).__init__()\n",
        "    self.batch_sz = batch_sz\n",
        "    self.dec_units = dec_units*2  #Since bidirectional RNN has concatenated cells \n",
        "    self.embedding = tf.keras.layers.Embedding(vocab_size, embedding_dim)\n",
        "    self.gru = tf.keras.layers.GRU(self.dec_units,\n",
        "                                   return_sequences=True,\n",
        "                                   return_state=True,\n",
        "                                   recurrent_initializer='glorot_uniform')\n",
        "    self.fc = tf.keras.layers.Dense(vocab_size)\n",
        "\n",
        "    # used for attention\n",
        "    self.attention = BahdanauAttention(self.dec_units)\n",
        "\n",
        "  def call(self, x, hidden, enc_output):\n",
        "    # enc_output shape == (batch_size, max_length, hidden_size)\n",
        "    context_vector, attention_weights = self.attention(hidden, enc_output)\n",
        "\n",
        "    # x shape after passing through embedding == (batch_size, 1, embedding_dim)\n",
        "    x = self.embedding(x)\n",
        "\n",
        "    # x shape after concatenation == (batch_size, 1, embedding_dim + hidden_size)\n",
        "    x = tf.concat([tf.expand_dims(context_vector, 1), x], axis=-1)\n",
        "\n",
        "    # passing the concatenated vector to the GRU\n",
        "    output, state = self.gru(x)\n",
        "\n",
        "    # output shape == (batch_size * 1, hidden_size)\n",
        "    output = tf.reshape(output, (-1, output.shape[2]))\n",
        "\n",
        "    # output shape == (batch_size, vocab)\n",
        "    x = self.fc(output)\n",
        "\n",
        "    return x, state, attention_weights"
      ],
      "execution_count": 0,
      "outputs": []
    },
    {
      "cell_type": "code",
      "metadata": {
        "colab_type": "code",
        "id": "P5UY8wko3jFp",
        "outputId": "89db5d67-a48f-4855-8ec0-37f1f1865942",
        "colab": {
          "base_uri": "https://localhost:8080/",
          "height": 34
        }
      },
      "source": [
        "decoder = Decoder(vocab_tar_size, embedding_dim, units, BATCH_SIZE)\n",
        "\n",
        "sample_decoder_output, state,attention_weights = decoder(tf.random.uniform((BATCH_SIZE, 1)),\n",
        "                                      sample_hidden, sample_output)\n",
        "\n",
        "print ('Decoder output shape: (batch_size, vocab size) {}'.format(sample_decoder_output.shape))"
      ],
      "execution_count": 38,
      "outputs": [
        {
          "output_type": "stream",
          "text": [
            "Decoder output shape: (batch_size, vocab size) (128, 53416)\n"
          ],
          "name": "stdout"
        }
      ]
    },
    {
      "cell_type": "markdown",
      "metadata": {
        "colab_type": "text",
        "id": "_ch_71VbIRfK"
      },
      "source": [
        "## Define the optimizer and the loss function"
      ]
    },
    {
      "cell_type": "code",
      "metadata": {
        "colab_type": "code",
        "id": "WmTHr5iV3jFr",
        "colab": {}
      },
      "source": [
        "optimizer = tf.keras.optimizers.Adam()\n",
        "loss_object = tf.keras.losses.SparseCategoricalCrossentropy(\n",
        "    from_logits=True, reduction='none')\n",
        "\n",
        "def loss_function(real, pred):\n",
        "  mask = tf.math.logical_not(tf.math.equal(real, 0))\n",
        "  loss_ = loss_object(real, pred)\n",
        "\n",
        "  mask = tf.cast(mask, dtype=loss_.dtype)\n",
        "  loss_ *= mask\n",
        "\n",
        "  return tf.reduce_mean(loss_)"
      ],
      "execution_count": 0,
      "outputs": []
    },
    {
      "cell_type": "markdown",
      "metadata": {
        "colab_type": "text",
        "id": "DMVWzzsfNl4e"
      },
      "source": [
        "## Checkpoints (Object-based saving)"
      ]
    },
    {
      "cell_type": "code",
      "metadata": {
        "colab_type": "code",
        "id": "Zj8bXQTgNwrF",
        "colab": {}
      },
      "source": [
        "checkpoint_dir = './training_checkpoints'\n",
        "checkpoint_prefix = os.path.join(checkpoint_dir, \"ckpt\")\n",
        "checkpoint = tf.train.Checkpoint(optimizer=optimizer,\n",
        "                                 encoder=encoder,\n",
        "                                 decoder=decoder)"
      ],
      "execution_count": 0,
      "outputs": []
    },
    {
      "cell_type": "markdown",
      "metadata": {
        "colab_type": "text",
        "id": "hpObfY22IddU"
      },
      "source": [
        "## Training\n",
        "\n",
        "1. Pass the *input* through the *encoder* which return *encoder output* and the *encoder hidden state*.\n",
        "2. The encoder output, encoder hidden state and the decoder input (which is the *start token*) is passed to the decoder.\n",
        "3. The decoder returns the *predictions* and the *decoder hidden state*.\n",
        "4. The decoder hidden state is then passed back into the model and the predictions are used to calculate the loss.\n",
        "5. Use *teacher forcing* to decide the next input to the decoder.\n",
        "6. *Teacher forcing* is the technique where the *target word* is passed as the *next input* to the decoder.\n",
        "7. The final step is to calculate the gradients and apply it to the optimizer and backpropagate."
      ]
    },
    {
      "cell_type": "code",
      "metadata": {
        "colab_type": "code",
        "id": "sC9ArXSsVfqn",
        "colab": {}
      },
      "source": [
        "@tf.function\n",
        "def train_step(inp, targ, enc_hidden_fw,enc_hidden_bk):\n",
        "  loss = 0\n",
        "\n",
        "  with tf.GradientTape() as tape:\n",
        "    enc_output, enc_hidden = encoder(inp, enc_hidden_fw,enc_hidden_bk)\n",
        "\n",
        "    dec_hidden = enc_hidden\n",
        "\n",
        "    dec_input = tf.expand_dims([targ_lang.word_index['<start>']] * BATCH_SIZE, 1)\n",
        "\n",
        "    # Teacher forcing - feeding the target as the next input\n",
        "    for t in range(1, targ.shape[1]):\n",
        "      # passing enc_output to the decoder\n",
        "      \n",
        "      predictions, dec_hidden, _ = decoder(dec_input, dec_hidden, enc_output)\n",
        "\n",
        "      loss += loss_function(targ[:, t], predictions)\n",
        "\n",
        "      # using teacher forcing\n",
        "      dec_input = tf.expand_dims(targ[:, t], 1)\n",
        "      \n",
        "  #print('loop ended')\n",
        "  batch_loss = (loss / int(targ.shape[1]))\n",
        "  #print('batch caclulation ended')\n",
        "  variables = encoder.trainable_variables + decoder.trainable_variables\n",
        "  #print('variables summed')\n",
        "  gradients = tape.gradient(loss, variables)\n",
        "  #print('gradients calculated summed')\n",
        "  optimizer.apply_gradients(zip(gradients, variables))\n",
        "  #print('optimizer applies')\n",
        "  return batch_loss"
      ],
      "execution_count": 0,
      "outputs": []
    },
    {
      "cell_type": "code",
      "metadata": {
        "colab_type": "code",
        "id": "ddefjBMa3jF0",
        "outputId": "be9b705c-a89a-4e2a-ce9e-a67f787d9613",
        "colab": {
          "base_uri": "https://localhost:8080/",
          "height": 1207
        }
      },
      "source": [
        "EPOCHS = 10\n",
        "\n",
        "for epoch in range(EPOCHS):\n",
        "  start = time.time()\n",
        "\n",
        "  enc_hidden_fw = encoder.initialize_hidden_state()\n",
        "  enc_hidden_bk = encoder.initialize_hidden_state()\n",
        "  total_loss = 0\n",
        "\n",
        "  for (batch, (inp, targ)) in enumerate(dataset.take(steps_per_epoch)):\n",
        "    batch_loss = train_step(inp, targ, enc_hidden_fw,enc_hidden_bk)\n",
        "  \n",
        "    total_loss += batch_loss\n",
        "\n",
        "    if batch % 100 == 0:\n",
        "        print('Epoch {} Batch {} Loss {:.4f}'.format(epoch + 1,\n",
        "                                                     batch,\n",
        "                                                     batch_loss.numpy()))\n",
        "  # saving (checkpoint) the model every 2 epochs\n",
        "  if (epoch + 1) % 2 == 0:\n",
        "    checkpoint.save(file_prefix = checkpoint_prefix)\n",
        "\n",
        "  print('Epoch {} Loss {:.4f}'.format(epoch + 1,\n",
        "                                      total_loss / steps_per_epoch))\n",
        "  print('Time taken for 1 epoch {} sec\\n'.format(time.time() - start))"
      ],
      "execution_count": 42,
      "outputs": [
        {
          "output_type": "stream",
          "text": [
            "Epoch 1 Batch 0 Loss 3.4019\n",
            "Epoch 1 Batch 100 Loss 2.4947\n",
            "Epoch 1 Batch 200 Loss 2.8753\n",
            "Epoch 1 Batch 300 Loss 2.6035\n",
            "Epoch 1 Loss 2.6931\n",
            "Time taken for 1 epoch 417.22875356674194 sec\n",
            "\n",
            "Epoch 2 Batch 0 Loss 2.5148\n",
            "Epoch 2 Batch 100 Loss 2.3282\n",
            "Epoch 2 Batch 200 Loss 2.6118\n",
            "Epoch 2 Batch 300 Loss 2.3662\n",
            "Epoch 2 Loss 2.4123\n",
            "Time taken for 1 epoch 373.96131896972656 sec\n",
            "\n",
            "Epoch 3 Batch 0 Loss 2.2783\n",
            "Epoch 3 Batch 100 Loss 2.0623\n",
            "Epoch 3 Batch 200 Loss 2.3619\n",
            "Epoch 3 Batch 300 Loss 2.1792\n",
            "Epoch 3 Loss 2.1920\n",
            "Time taken for 1 epoch 369.38125133514404 sec\n",
            "\n",
            "Epoch 4 Batch 0 Loss 2.0559\n",
            "Epoch 4 Batch 100 Loss 1.8502\n",
            "Epoch 4 Batch 200 Loss 2.1781\n",
            "Epoch 4 Batch 300 Loss 1.9656\n",
            "Epoch 4 Loss 1.9939\n",
            "Time taken for 1 epoch 374.9393651485443 sec\n",
            "\n",
            "Epoch 5 Batch 0 Loss 1.8145\n",
            "Epoch 5 Batch 100 Loss 1.6442\n",
            "Epoch 5 Batch 200 Loss 2.0143\n",
            "Epoch 5 Batch 300 Loss 1.7942\n",
            "Epoch 5 Loss 1.8112\n",
            "Time taken for 1 epoch 367.5573818683624 sec\n",
            "\n",
            "Epoch 6 Batch 0 Loss 1.5901\n",
            "Epoch 6 Batch 100 Loss 1.4935\n",
            "Epoch 6 Batch 200 Loss 1.8523\n",
            "Epoch 6 Batch 300 Loss 1.6528\n",
            "Epoch 6 Loss 1.6388\n",
            "Time taken for 1 epoch 372.9344787597656 sec\n",
            "\n",
            "Epoch 7 Batch 0 Loss 1.4250\n",
            "Epoch 7 Batch 100 Loss 1.3113\n",
            "Epoch 7 Batch 200 Loss 1.6539\n",
            "Epoch 7 Batch 300 Loss 1.4539\n",
            "Epoch 7 Loss 1.4329\n",
            "Time taken for 1 epoch 367.38110184669495 sec\n",
            "\n",
            "Epoch 8 Batch 0 Loss 1.3749\n",
            "Epoch 8 Batch 100 Loss 1.0642\n",
            "Epoch 8 Batch 200 Loss 1.3931\n",
            "Epoch 8 Batch 300 Loss 1.2477\n",
            "Epoch 8 Loss 1.2251\n",
            "Time taken for 1 epoch 373.7447199821472 sec\n",
            "\n",
            "Epoch 9 Batch 0 Loss 1.3366\n",
            "Epoch 9 Batch 100 Loss 0.8867\n",
            "Epoch 9 Batch 200 Loss 1.1748\n",
            "Epoch 9 Batch 300 Loss 0.9713\n",
            "Epoch 9 Loss 1.0181\n",
            "Time taken for 1 epoch 367.2508611679077 sec\n",
            "\n",
            "Epoch 10 Batch 0 Loss 0.9163\n",
            "Epoch 10 Batch 100 Loss 0.6980\n",
            "Epoch 10 Batch 200 Loss 0.9217\n",
            "Epoch 10 Batch 300 Loss 0.8340\n",
            "Epoch 10 Loss 0.8468\n",
            "Time taken for 1 epoch 377.5802230834961 sec\n",
            "\n"
          ],
          "name": "stdout"
        }
      ]
    },
    {
      "cell_type": "markdown",
      "metadata": {
        "id": "2zfOHYf0XFcM",
        "colab_type": "text"
      },
      "source": [
        "**GPU memory full but still running**\n",
        "\n",
        "a ) Tamil vocab size with 142182 tokens in the final softmax layer consumes fully GPU memory\n",
        "b)  English tokens 42697\n",
        "c)  Max_token length set to 17"
      ]
    },
    {
      "cell_type": "markdown",
      "metadata": {
        "colab_type": "text",
        "id": "mU3Ce8M6I3rz"
      },
      "source": [
        "## Translate\n",
        "\n",
        "* The evaluate function is similar to the training loop, except we don't use *teacher forcing* here. The input to the decoder at each time step is its previous predictions along with the hidden state and the encoder output.\n",
        "* Stop predicting when the model predicts the *end token*.\n",
        "* And store the *attention weights for every time step*.\n",
        "\n",
        "Note: The encoder output is calculated only once for one input."
      ]
    },
    {
      "cell_type": "code",
      "metadata": {
        "colab_type": "code",
        "id": "EbQpyYs13jF_",
        "colab": {}
      },
      "source": [
        "def evaluate(sentence,sample_size):\n",
        "    attention_plot = np.zeros((max_length_targ, max_length_inp))\n",
        "    #print(sentence)\n",
        "    sentence = preprocess_sentence(sentence,language='english')\n",
        "\n",
        "    #inputs = [inp_lang.word_index.get([i],'<UNK>') for i in sentence.split(' ')]\n",
        "    #inputs = [inp_lang.word_index.([i]) for i in sentence.split(' ')]\n",
        "    inputs = [inp_lang.word_index[i] for i in sentence.split(' ')]\n",
        "    \n",
        "    #inp_lang.word_index.get([i],'<UNK>')\n",
        "    #inputs = for i in sentence.split(' '):\n",
        "    inputs = tf.keras.preprocessing.sequence.pad_sequences([inputs],\n",
        "                                                           maxlen=max_length_inp,\n",
        "                                                           padding='post')\n",
        "    inputs = tf.convert_to_tensor(inputs)\n",
        "\n",
        "    result = ''\n",
        "\n",
        "    hidden1 = tf.zeros((1, units))\n",
        "    hidden2 = tf.zeros((1, units))\n",
        "    #encoder(example_input_batch, sample_hidden1,sample_hidden2)\n",
        "    enc_out, enc_hidden = encoder(inputs, hidden1,hidden2)\n",
        "    \n",
        "\n",
        "    dec_hidden = enc_hidden\n",
        "    dec_input = tf.expand_dims([targ_lang.word_index['<start>']], 0)\n",
        "\n",
        "    for t in range(max_length_targ):\n",
        "        predictions, dec_hidden, attention_weights = decoder(dec_input,\n",
        "                                                             dec_hidden,\n",
        "                                                             enc_out)\n",
        "\n",
        "        # storing the attention weights to plot later on\n",
        "        attention_weights = tf.reshape(attention_weights, (-1, ))\n",
        "        attention_plot[t] = attention_weights.numpy()\n",
        "\n",
        "        #predicted_id = tf.argmax(predictions[0]).numpy()\n",
        "        \n",
        "        #Implement top-n sampling decoding technique\n",
        "        distribution = tf.argsort(predictions[0],direction='DESCENDING').numpy()[:sample_size]\n",
        "        predicted_id = random.choice(distribution)\n",
        "        result += targ_lang.index_word[predicted_id] + ' '\n",
        "\n",
        "        if targ_lang.index_word[predicted_id] == '<end>':\n",
        "            return result, sentence, attention_plot\n",
        "\n",
        "        # the predicted ID is fed back into the model\n",
        "        dec_input = tf.expand_dims([predicted_id], 0)\n",
        "\n",
        "    return result, sentence, attention_plot"
      ],
      "execution_count": 0,
      "outputs": []
    },
    {
      "cell_type": "code",
      "metadata": {
        "colab_type": "code",
        "id": "s5hQWlbN3jGF",
        "colab": {}
      },
      "source": [
        "# function for plotting the attention weights\n",
        "def plot_attention(attention, sentence, predicted_sentence):\n",
        "    fig = plt.figure(figsize=(10,10))\n",
        "    ax = fig.add_subplot(1, 1, 1)\n",
        "    ax.matshow(attention, cmap='viridis')\n",
        "\n",
        "    fontdict = {'fontsize': 14}\n",
        "\n",
        "    ax.set_xticklabels([''] + sentence, fontdict=fontdict, rotation=90)\n",
        "    ax.set_yticklabels([''] + predicted_sentence, fontdict=fontdict)\n",
        "\n",
        "    plt.show()"
      ],
      "execution_count": 0,
      "outputs": []
    },
    {
      "cell_type": "code",
      "metadata": {
        "colab_type": "code",
        "id": "sl9zUHzg3jGI",
        "colab": {}
      },
      "source": [
        "def translate(sentence):\n",
        "    result, sentence, attention_plot = evaluate(sentence,sample_size=5)\n",
        "\n",
        "    print('Input: %s' % (sentence))\n",
        "    print('Predicted translation: {}'.format(result))\n",
        "\n",
        "    attention_plot = attention_plot[:len(result.split(' ')), :len(sentence.split(' '))]\n",
        "    plot_attention(attention_plot, sentence.split(' '), result.split(' '))"
      ],
      "execution_count": 0,
      "outputs": []
    },
    {
      "cell_type": "markdown",
      "metadata": {
        "colab_type": "text",
        "id": "n250XbnjOaqP"
      },
      "source": [
        "## Restore the latest checkpoint and test"
      ]
    },
    {
      "cell_type": "code",
      "metadata": {
        "colab_type": "code",
        "id": "UJpT9D5_OgP6",
        "colab": {
          "base_uri": "https://localhost:8080/",
          "height": 34
        },
        "outputId": "ba1527fb-3cc0-449f-8f52-f56224a5885e"
      },
      "source": [
        "# restoring the latest checkpoint in checkpoint_dir\n",
        "\n",
        "checkpoint.restore(tf.train.latest_checkpoint(checkpoint_dir)).assert_consumed()"
      ],
      "execution_count": 47,
      "outputs": [
        {
          "output_type": "execute_result",
          "data": {
            "text/plain": [
              "<tensorflow.python.training.tracking.util.CheckpointLoadStatus at 0x7fe1116e3eb8>"
            ]
          },
          "metadata": {
            "tags": []
          },
          "execution_count": 47
        }
      ]
    },
    {
      "cell_type": "code",
      "metadata": {
        "colab_type": "code",
        "id": "DUQVLVqUE1YW",
        "colab": {}
      },
      "source": [
        "\n",
        "def calc_BLEU():\n",
        "  start=time.time()\n",
        "  score = 0\n",
        "  for targ,sour_input in zip(targ_lang.sequences_to_texts(target_tensor_val),inp_lang.sequences_to_texts(input_tensor_val)):\n",
        "    \n",
        "      \n",
        "    sour_input = sour_input.replace('<start>','').replace('<end>','')\n",
        "    targ = targ.replace('<start>','').replace('<end>','')\n",
        "    try:\n",
        "      result,_,_=evaluate(sour_input,sample_size=5)\n",
        "    except KeyError:\n",
        "      continue\n",
        "      print(sour_input)\n",
        "      \n",
        "    \n",
        "    score +=sentence_bleu([targ],result)\n",
        "  print('processing time is {}'.format((time.time()-start)))\n",
        "  return(score/len(target_tensor_val) )"
      ],
      "execution_count": 0,
      "outputs": []
    },
    {
      "cell_type": "code",
      "metadata": {
        "id": "R3roVIkZZtRN",
        "colab_type": "code",
        "colab": {
          "base_uri": "https://localhost:8080/",
          "height": 238
        },
        "outputId": "153bf7b3-ed39-41ae-d18d-6e9f6f0cd196"
      },
      "source": [
        "Bleu_score = calc_BLEU()\n"
      ],
      "execution_count": 85,
      "outputs": [
        {
          "output_type": "stream",
          "text": [
            "/usr/local/lib/python3.6/dist-packages/nltk/translate/bleu_score.py:490: UserWarning: \n",
            "Corpus/Sentence contains 0 counts of 4-gram overlaps.\n",
            "BLEU scores might be undesirable; use SmoothingFunction().\n",
            "  warnings.warn(_msg)\n",
            "/usr/local/lib/python3.6/dist-packages/nltk/translate/bleu_score.py:490: UserWarning: \n",
            "Corpus/Sentence contains 0 counts of 3-gram overlaps.\n",
            "BLEU scores might be undesirable; use SmoothingFunction().\n",
            "  warnings.warn(_msg)\n",
            "/usr/local/lib/python3.6/dist-packages/nltk/translate/bleu_score.py:490: UserWarning: \n",
            "Corpus/Sentence contains 0 counts of 2-gram overlaps.\n",
            "BLEU scores might be undesirable; use SmoothingFunction().\n",
            "  warnings.warn(_msg)\n"
          ],
          "name": "stderr"
        },
        {
          "output_type": "stream",
          "text": [
            "processing time is 91.09575295448303\n"
          ],
          "name": "stdout"
        }
      ]
    },
    {
      "cell_type": "code",
      "metadata": {
        "id": "QktWujNDVjtX",
        "colab_type": "code",
        "colab": {
          "base_uri": "https://localhost:8080/",
          "height": 34
        },
        "outputId": "227c6632-37a7-448d-8d89-795327e6a55f"
      },
      "source": [
        "print(Bleu_score)"
      ],
      "execution_count": 86,
      "outputs": [
        {
          "output_type": "stream",
          "text": [
            "0.19559744157693884\n"
          ],
          "name": "stdout"
        }
      ]
    },
    {
      "cell_type": "code",
      "metadata": {
        "id": "7Qkh0WLmsUMP",
        "colab_type": "code",
        "colab": {
          "base_uri": "https://localhost:8080/",
          "height": 696
        },
        "outputId": "a51cd5d4-8eaf-4303-b557-58916db9f95b"
      },
      "source": [
        "translate(u'Would she produce films again?')"
      ],
      "execution_count": 74,
      "outputs": [
        {
          "output_type": "stream",
          "text": [
            "Input: <start> would she produce films again ? <end>\n",
            "Predicted translation: படம் உலகத்தில் ஒப்புக் கொள்கிறார்கள் , உருகிப்போனார் 'கேடி' படப்பிடிப்பு நடந்தது <end> \n"
          ],
          "name": "stdout"
        },
        {
          "output_type": "display_data",
          "data": {
            "image/png": "[encoded data removed]",
            "text/plain": [
              "<Figure size 720x720 with 1 Axes>"
            ]
          },
          "metadata": {
            "tags": []
          }
        }
      ]
    },
    {
      "cell_type": "code",
      "metadata": {
        "id": "97l-vd7ne64I",
        "colab_type": "code",
        "colab": {
          "base_uri": "https://localhost:8080/",
          "height": 530
        },
        "outputId": "124a108a-ee45-4a26-b11c-2b2dc6f35364"
      },
      "source": [
        "#print(Bleu_score)\n",
        "translate(u'This will keep getting better')\n",
        "#translate(u'Sorry for confusing you')\n",
        "#translate(u'Hey who are you man')\n",
        "#translate(u'How are you man')"
      ],
      "execution_count": 79,
      "outputs": [
        {
          "output_type": "stream",
          "text": [
            "Input: <start> this will keep getting better <end>\n",
            "Predicted translation: அவர்கள் விஷயம் அதிகமாகும் <end> \n"
          ],
          "name": "stdout"
        },
        {
          "output_type": "display_data",
          "data": {
            "image/png": "[encoded data removed]",
            "text/plain": [
              "<Figure size 720x720 with 1 Axes>"
            ]
          },
          "metadata": {
            "tags": []
          }
        }
      ]
    },
    {
      "cell_type": "code",
      "metadata": {
        "id": "7_05YjxhqK5l",
        "colab_type": "code",
        "colab": {
          "base_uri": "https://localhost:8080/",
          "height": 710
        },
        "outputId": "67993fee-646d-446f-f66b-0ac0b90197f7"
      },
      "source": [
        "translate('Tamilnadu has 32 Districts')"
      ],
      "execution_count": 80,
      "outputs": [
        {
          "output_type": "stream",
          "text": [
            "Input: <start> tamilnadu has districts <end>\n",
            "Predicted translation: சிங்கப்பூரின் தேசிய நிறுவனம் ( - அதிகாரப்பூர்வ வரலாறு உள்ளது சென்னை பல்கலைக்கழகம் சென்னை கற்றல் தமிழக வரலாறு <end> \n"
          ],
          "name": "stdout"
        },
        {
          "output_type": "display_data",
          "data": {
            "image/png": "[encoded data removed]",
            "text/plain": [
              "<Figure size 720x720 with 1 Axes>"
            ]
          },
          "metadata": {
            "tags": []
          }
        }
      ]
    },
    {
      "cell_type": "code",
      "metadata": {
        "id": "aHQw4mT_wp6c",
        "colab_type": "code",
        "colab": {
          "base_uri": "https://localhost:8080/",
          "height": 689
        },
        "outputId": "818cfe51-28d5-44d0-e3b3-8427992a9bdc"
      },
      "source": [
        "translate('california university, berkely')"
      ],
      "execution_count": 76,
      "outputs": [
        {
          "output_type": "stream",
          "text": [
            "Input: <start> california university berkely <end>\n",
            "Predicted translation: ஒற்றைக் குறிப்புகள் பெருக்கி <end> \n"
          ],
          "name": "stdout"
        },
        {
          "output_type": "display_data",
          "data": {
            "image/png": "[encoded data removed]",
            "text/plain": [
              "<Figure size 720x720 with 1 Axes>"
            ]
          },
          "metadata": {
            "tags": []
          }
        }
      ]
    },
    {
      "cell_type": "code",
      "metadata": {
        "id": "jDEnJCcvaRvK",
        "colab_type": "code",
        "colab": {
          "base_uri": "https://localhost:8080/",
          "height": 695
        },
        "outputId": "af81d1aa-e9c7-4faa-8ec9-5e391241350f"
      },
      "source": [
        "translate(u'watch this film')"
      ],
      "execution_count": 75,
      "outputs": [
        {
          "output_type": "stream",
          "text": [
            "Input: <start> watch this film <end>\n",
            "Predicted translation: 1916 ம் ஒவ்வொன்றும் முக்கியத்துவம் பீன்னூட்டச் மககோனி ( ) நீக்கப்படுதல் இவற்றில் எங்கும் சார்ந்தது பீன்னூட்டச் சுற்றாகும் ஒரு சர்வதேச வண்ணம் \n"
          ],
          "name": "stdout"
        },
        {
          "output_type": "display_data",
          "data": {
            "image/png": "[encoded data removed]",
            "text/plain": [
              "<Figure size 720x720 with 1 Axes>"
            ]
          },
          "metadata": {
            "tags": []
          }
        }
      ]
    },
    {
      "cell_type": "code",
      "metadata": {
        "id": "B_GEZjLWXd0n",
        "colab_type": "code",
        "colab": {}
      },
      "source": [
        ""
      ],
      "execution_count": 0,
      "outputs": []
    },
    {
      "cell_type": "code",
      "metadata": {
        "id": "j2GhoT5CwesB",
        "colab_type": "code",
        "colab": {}
      },
      "source": [
        "#translate('We can see many trees in south and east part')\n",
        "#translate('it is good')\n",
        "translate(\"I have three sons\")\n",
        "\n",
        "#print(Bleu_score)"
      ],
      "execution_count": 0,
      "outputs": []
    },
    {
      "cell_type": "code",
      "metadata": {
        "id": "wnOX8gUJUbhc",
        "colab_type": "code",
        "colab": {}
      },
      "source": [
        "translate('it is good but not too good')"
      ],
      "execution_count": 0,
      "outputs": []
    },
    {
      "cell_type": "code",
      "metadata": {
        "id": "YGjvFpEJUlMN",
        "colab_type": "code",
        "colab": {
          "base_uri": "https://localhost:8080/",
          "height": 686
        },
        "outputId": "5c5d7302-6542-450e-aec8-37282854018d"
      },
      "source": [
        "translate('computer')"
      ],
      "execution_count": 78,
      "outputs": [
        {
          "output_type": "stream",
          "text": [
            "Input: <start> computer <end>\n",
            "Predicted translation: பராமரிப்பு / காட்சி <end> \n"
          ],
          "name": "stdout"
        },
        {
          "output_type": "display_data",
          "data": {
            "image/png": "[encoded data removed]",
            "text/plain": [
              "<Figure size 720x720 with 1 Axes>"
            ]
          },
          "metadata": {
            "tags": []
          }
        }
      ]
    },
    {
      "cell_type": "code",
      "metadata": {
        "id": "IRjjkGUaaAxx",
        "colab_type": "code",
        "colab": {
          "base_uri": "https://localhost:8080/",
          "height": 675
        },
        "outputId": "fe4a9c74-cf0f-4cd6-f899-a06b1b7ec465"
      },
      "source": [
        "translate('please contact')"
      ],
      "execution_count": 77,
      "outputs": [
        {
          "output_type": "stream",
          "text": [
            "Input: <start> please contact <end>\n",
            "Predicted translation: தள மொழி மொழி அகராதி விவரங்கள் <end> \n"
          ],
          "name": "stdout"
        },
        {
          "output_type": "display_data",
          "data": {
            "image/png": "[encoded data removed]",
            "text/plain": [
              "<Figure size 720x720 with 1 Axes>"
            ]
          },
          "metadata": {
            "tags": []
          }
        }
      ]
    },
    {
      "cell_type": "markdown",
      "metadata": {
        "colab_type": "text",
        "id": "RTe5P5ioMJwN"
      },
      "source": [
        "## Next steps\n",
        "\n",
        "* [Download a different dataset](http://www.manythings.org/anki/) to experiment with translations, for example, English to German, or English to French.\n",
        "* Experiment with training on a larger dataset, or using more epochs\n"
      ]
    }
  ]
}